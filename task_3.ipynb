{
 "cells": [
  {
   "cell_type": "markdown",
   "metadata": {},
   "source": [
    "# Задание 3. Python\n",
    "## 3.1 Задача\n",
    "\n",
    "Реализуйте функцию, которая будет автоматически подгружать информацию из дополнительного файла groups_add.csv (заголовки могут отличаться) и на основании дополнительных параметров пересчитывать метрики.\n",
    "Реализуйте функцию, которая будет строить графики по получаемым метрикам."
   ]
  },
  {
   "cell_type": "code",
   "execution_count": 9,
   "metadata": {},
   "outputs": [],
   "source": [
    "import pandas as pd\n",
    "import seaborn as sns\n",
    "import matplotlib.pyplot as plt\n",
    "import scipy.stats as st\n",
    "import numpy as np\n",
    "from scipy.stats import bootstrap\n",
    "import requests\n",
    "from urllib.parse import urlencode\n",
    "\n",
    "large = 22; med = 16; small = 12\n",
    "params = {'axes.titlesize': large,\n",
    "          'legend.fontsize': med,\n",
    "          'axes.labelsize': med,\n",
    "          'axes.titlesize': med,\n",
    "          'xtick.labelsize': med,\n",
    "          'ytick.labelsize': med,\n",
    "          'figure.titlesize': large}\n",
    "plt.rcParams.update(params)\n",
    "plt.style.use('seaborn-whitegrid')\n",
    "sns.set_style(\"white\")\n",
    "%matplotlib inline"
   ]
  },
  {
   "cell_type": "code",
   "execution_count": 10,
   "metadata": {},
   "outputs": [],
   "source": [
    "def get_data_yandex(public_key,separator):\n",
    "    base_url = 'https://cloud-api.yandex.net/v1/disk/public/resources/download?' \n",
    "    \n",
    "    ## получаем url \n",
    "    final_url = base_url + urlencode(dict(public_key=public_key)) \n",
    "    response = requests.get(final_url) \n",
    "    download_url = response.json()['href'] \n",
    "\n",
    "    ## загружаем файл в df \n",
    "    download_response = requests.get(download_url) \n",
    "    return pd.read_csv(download_url, separator)\n",
    "\n",
    "## На вход функция получает ссылку на яндекс диск и разделитель"
   ]
  },
  {
   "cell_type": "code",
   "execution_count": 11,
   "metadata": {},
   "outputs": [],
   "source": [
    "group_add = get_data_yandex('https://disk.yandex.ru/d/5Kxrz02m3IBUwQ',',')\n",
    "groups = get_data_yandex('https://disk.yandex.ru/d/UhyYx41rTt3clQ',';')\n",
    "checks = get_data_yandex('https://disk.yandex.ru/d/pH1q-VqcxXjsVA',';')\n",
    "active_studs = get_data_yandex('https://disk.yandex.ru/d/Tbs44Bm6H_FwFQ',';')"
   ]
  },
  {
   "cell_type": "code",
   "execution_count": 12,
   "metadata": {},
   "outputs": [],
   "source": [
    "def metrics(groups,checks,group_add,active_studs):\n",
    "    all_groups = pd.concat([groups, group_add], ignore_index=True)\n",
    "    all_groups = all_groups.rename(columns = {'id':'student_id'})\n",
    "    active = active_studs.merge(all_groups)\n",
    "    tested = active.merge(checks,on = 'student_id',how='left').fillna(0)\n",
    "    \n",
    "    bought = tested.query('rev > 0') \\\n",
    "    .groupby('grp',as_index = False) \\\n",
    "    .agg({'rev':'count'}) \\\n",
    "    .rename(columns = {'rev':'users_bought'})\n",
    "    \n",
    "    alltested = tested.groupby('grp',as_index = False) \\\n",
    "    .agg({'rev':'count'}) \\\n",
    "    .rename(columns = {'rev':'alltested'})\n",
    "    \n",
    "    CR = bought.users_bought/alltested.alltested * 100\n",
    "    \n",
    "    AverageCheck = tested.query('rev > 0') \\\n",
    "    .groupby('grp') \\\n",
    "    .agg({'rev':'mean'}) \\\n",
    "    .rename(columns = {'rev':'AverageCheck'})\n",
    "    \n",
    "    \n",
    "    df_metrics = bought.merge(alltested, on = 'grp')\n",
    "    df_metrics['not_bought'] = alltested.alltested - bought.users_bought\n",
    "    df_metrics = df_metrics.merge(AverageCheck,on = 'grp')\n",
    "    df_metrics['CR'] = CR\n",
    "    return df_metrics\n",
    "## Функция с основными метриками."
   ]
  },
  {
   "cell_type": "code",
   "execution_count": 13,
   "metadata": {},
   "outputs": [
    {
     "data": {
      "text/html": [
       "<div>\n",
       "<style scoped>\n",
       "    .dataframe tbody tr th:only-of-type {\n",
       "        vertical-align: middle;\n",
       "    }\n",
       "\n",
       "    .dataframe tbody tr th {\n",
       "        vertical-align: top;\n",
       "    }\n",
       "\n",
       "    .dataframe thead th {\n",
       "        text-align: right;\n",
       "    }\n",
       "</style>\n",
       "<table border=\"1\" class=\"dataframe\">\n",
       "  <thead>\n",
       "    <tr style=\"text-align: right;\">\n",
       "      <th></th>\n",
       "      <th>grp</th>\n",
       "      <th>users_bought</th>\n",
       "      <th>alltested</th>\n",
       "      <th>not_bought</th>\n",
       "      <th>AverageCheck</th>\n",
       "      <th>CR</th>\n",
       "    </tr>\n",
       "  </thead>\n",
       "  <tbody>\n",
       "    <tr>\n",
       "      <th>0</th>\n",
       "      <td>A</td>\n",
       "      <td>78</td>\n",
       "      <td>1538</td>\n",
       "      <td>1460</td>\n",
       "      <td>933.589744</td>\n",
       "      <td>5.071521</td>\n",
       "    </tr>\n",
       "    <tr>\n",
       "      <th>1</th>\n",
       "      <td>B</td>\n",
       "      <td>314</td>\n",
       "      <td>6803</td>\n",
       "      <td>6489</td>\n",
       "      <td>1257.878992</td>\n",
       "      <td>4.615611</td>\n",
       "    </tr>\n",
       "  </tbody>\n",
       "</table>\n",
       "</div>"
      ],
      "text/plain": [
       "  grp  users_bought  alltested  not_bought  AverageCheck        CR\n",
       "0   A            78       1538        1460    933.589744  5.071521\n",
       "1   B           314       6803        6489   1257.878992  4.615611"
      ]
     },
     "execution_count": 13,
     "metadata": {},
     "output_type": "execute_result"
    }
   ],
   "source": [
    "metrics(groups,checks,group_add,active_studs)"
   ]
  },
  {
   "cell_type": "code",
   "execution_count": 14,
   "metadata": {},
   "outputs": [],
   "source": [
    "def build_graph():\n",
    "        all_groups = pd.concat([groups, group_add], ignore_index=True)\n",
    "        all_groups = all_groups.rename(columns = {'id':'student_id'})\n",
    "        active = active_studs.merge(all_groups)\n",
    "        tested = active.merge(checks,on = 'student_id',how='left').fillna(0)\n",
    "        \n",
    "        plt.figure(figsize = (13 ,7))\n",
    "        sns.boxplot(data = tested.query('rev != 0'), x='grp',y='rev')   \n",
    "        plt.xlabel('Test Group')\n",
    "        plt.ylabel('Revenue')\n",
    "\n",
    "## Функция с графиком общей выручки двух групп"
   ]
  },
  {
   "cell_type": "code",
   "execution_count": 15,
   "metadata": {},
   "outputs": [
    {
     "data": {
      "image/png": "[encoded data removed]",
      "text/plain": [
       "<Figure size 936x504 with 1 Axes>"
      ]
     },
     "metadata": {
      "needs_background": "light"
     },
     "output_type": "display_data"
    }
   ],
   "source": [
    "build_graph()"
   ]
  }
 ],
 "metadata": {
  "kernelspec": {
   "display_name": "Python 3",
   "language": "python",
   "name": "python3"
  },
  "language_info": {
   "codemirror_mode": {
    "name": "ipython",
    "version": 3
   },
   "file_extension": ".py",
   "mimetype": "text/x-python",
   "name": "python",
   "nbconvert_exporter": "python",
   "pygments_lexer": "ipython3",
   "version": "3.7.3"
  }
 },
 "nbformat": 4,
 "nbformat_minor": 4
}
