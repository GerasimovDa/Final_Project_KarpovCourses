{
 "cells": [
  {
   "cell_type": "markdown",
   "metadata": {},
   "source": [
    "# Задание 2. SQL\n",
    "## 2.1 Очень усердные ученики.\n",
    "\n",
    "### 2.1.1 Условие\n",
    "\n",
    "Образовательные курсы состоят из различных уроков, каждый из которых состоит из нескольких маленьких заданий. Каждое такое маленькое задание называется \"горошиной\".\n",
    "\n",
    "Назовём очень усердным учеником того пользователя, который хотя бы раз за текущий месяц правильно решил 20 горошин.\n",
    "\n",
    "### 2.1.2 Задача\n",
    "\n",
    "Дана таблица default.peas\n",
    "Необходимо написать оптимальный запрос, который даст информацию о количестве очень усердных студентов.NB! Под усердным студентом мы понимаем студента, который правильно решил 20 задач за текущий месяц.\n",
    "\n",
    "## 2.2 Оптимизация воронки\n",
    "\n",
    "### 2.2.1 Условие\n",
    "\n",
    "Образовательная платформа предлагает пройти студентам курсы по модели trial: студент может решить бесплатно лишь 30 горошин в день. Для неограниченного количества заданий в определенной дисциплине студенту необходимо приобрести полный доступ. Команда провела эксперимент, где был протестирован новый экран оплаты.\n",
    "\n",
    "### 2.2.2 Задача\n",
    "\n",
    "Дана таблицы: default.peas, default.studs и default.final_project_check.\n",
    "Необходимо в одном запросе выгрузить следующую информацию о группах пользователей:\n",
    "\n",
    "ARPU \n",
    "\n",
    "ARPAU \n",
    "\n",
    "CR в покупку \n",
    "\n",
    "СR активного пользователя в покупку \n",
    "\n",
    "CR пользователя из активности по математике (subject = ’math’) в покупку курса по математике\n",
    "\n",
    "ARPU считается относительно всех пользователей, попавших в группы.\n",
    "Активным считается пользователь, за все время решивший больше 10 задач правильно в любых дисциплинах.\n",
    "Активным по математике считается пользователь, за все время решивший 2 или больше задач правильно по математике."
   ]
  },
  {
   "cell_type": "code",
   "execution_count": 1,
   "metadata": {},
   "outputs": [],
   "source": [
    "import pandahouse as ph"
   ]
  },
  {
   "cell_type": "code",
   "execution_count": 2,
   "metadata": {},
   "outputs": [],
   "source": [
    "connection_default = {'host': 'https://clickhouse.lab.karpov.courses',\n",
    "                      'database':'default',\n",
    "                      'user':'student', \n",
    "                      'password':'dpo_python_2020'\n",
    "                     }\n",
    "## Объявляем переменную с данными"
   ]
  },
  {
   "cell_type": "markdown",
   "metadata": {},
   "source": [
    "Первое задание:"
   ]
  },
  {
   "cell_type": "code",
   "execution_count": 3,
   "metadata": {},
   "outputs": [
    {
     "data": {
      "text/html": [
       "<div>\n",
       "<style scoped>\n",
       "    .dataframe tbody tr th:only-of-type {\n",
       "        vertical-align: middle;\n",
       "    }\n",
       "\n",
       "    .dataframe tbody tr th {\n",
       "        vertical-align: top;\n",
       "    }\n",
       "\n",
       "    .dataframe thead th {\n",
       "        text-align: right;\n",
       "    }\n",
       "</style>\n",
       "<table border=\"1\" class=\"dataframe\">\n",
       "  <thead>\n",
       "    <tr style=\"text-align: right;\">\n",
       "      <th></th>\n",
       "      <th>NumberOfGoodStudents</th>\n",
       "    </tr>\n",
       "  </thead>\n",
       "  <tbody>\n",
       "    <tr>\n",
       "      <th>0</th>\n",
       "      <td>136</td>\n",
       "    </tr>\n",
       "  </tbody>\n",
       "</table>\n",
       "</div>"
      ],
      "text/plain": [
       "   NumberOfGoodStudents\n",
       "0                   136"
      ]
     },
     "execution_count": 3,
     "metadata": {},
     "output_type": "execute_result"
    }
   ],
   "source": [
    "q = '''\n",
    "    SELECT COUNT(st_id) AS NumberOfGoodStudents\n",
    "    FROM\n",
    "        (\n",
    "        SELECT st_id,COUNT(correct)\n",
    "        FROM peas\n",
    "        WHERE \n",
    "            correct = 1\n",
    "        GROUP BY \n",
    "            st_id\n",
    "        HAVING \n",
    "            COUNT(correct)>19\n",
    "        )\n",
    "\n",
    "    '''\n",
    "\n",
    "q_task1 = ph.read_clickhouse(query=q, connection=connection_default)\n",
    "q_task1"
   ]
  },
  {
   "cell_type": "markdown",
   "metadata": {},
   "source": [
    "Второе задание:"
   ]
  },
  {
   "cell_type": "code",
   "execution_count": 4,
   "metadata": {},
   "outputs": [
    {
     "data": {
      "text/html": [
       "<div>\n",
       "<style scoped>\n",
       "    .dataframe tbody tr th:only-of-type {\n",
       "        vertical-align: middle;\n",
       "    }\n",
       "\n",
       "    .dataframe tbody tr th {\n",
       "        vertical-align: top;\n",
       "    }\n",
       "\n",
       "    .dataframe thead th {\n",
       "        text-align: right;\n",
       "    }\n",
       "</style>\n",
       "<table border=\"1\" class=\"dataframe\">\n",
       "  <thead>\n",
       "    <tr style=\"text-align: right;\">\n",
       "      <th></th>\n",
       "      <th>test_grp</th>\n",
       "      <th>arpu</th>\n",
       "      <th>arpau</th>\n",
       "      <th>cr</th>\n",
       "      <th>cr_active</th>\n",
       "      <th>cr_math</th>\n",
       "    </tr>\n",
       "  </thead>\n",
       "  <tbody>\n",
       "    <tr>\n",
       "      <th>0</th>\n",
       "      <td>control</td>\n",
       "      <td>4540.983607</td>\n",
       "      <td>10393.700787</td>\n",
       "      <td>0.052459</td>\n",
       "      <td>0.118110</td>\n",
       "      <td>0.061224</td>\n",
       "    </tr>\n",
       "    <tr>\n",
       "      <th>1</th>\n",
       "      <td>pilot</td>\n",
       "      <td>11508.474576</td>\n",
       "      <td>29739.583333</td>\n",
       "      <td>0.111864</td>\n",
       "      <td>0.270833</td>\n",
       "      <td>0.095238</td>\n",
       "    </tr>\n",
       "  </tbody>\n",
       "</table>\n",
       "</div>"
      ],
      "text/plain": [
       "  test_grp          arpu         arpau        cr  cr_active   cr_math\n",
       "0  control   4540.983607  10393.700787  0.052459   0.118110  0.061224\n",
       "1    pilot  11508.474576  29739.583333  0.111864   0.270833  0.095238"
      ]
     },
     "execution_count": 4,
     "metadata": {},
     "output_type": "execute_result"
    }
   ],
   "source": [
    "q2 = '''\n",
    "    SELECT\n",
    "        arpu.test_grp AS test_grp,\n",
    "        arpu.arpu AS arpu,\n",
    "        arpau.arpau AS arpau,\n",
    "        cr.cr AS cr,\n",
    "        Cr_active.cr_active AS cr_active,\n",
    "        cr_math.cr_math AS cr_math\n",
    "    FROM (\n",
    "        SELECT test_grp, SUM(money) / uniqExact(st_id) AS arpu\n",
    "        FROM (\n",
    "            SELECT *\n",
    "            FROM default.studs AS a\n",
    "            FULL JOIN default.final_project_check AS b ON a.st_id = b.st_id\n",
    "        )\n",
    "        GROUP BY test_grp\n",
    "    ) AS arpu\n",
    "    JOIN (\n",
    "        SELECT c.test_grp as test_grp, SUM(b.money) / count(DISTINCT a.st_id) AS arpau\n",
    "        FROM (\n",
    "            SELECT st_id, SUM(correct) AS SumCorrect\n",
    "            FROM default.peas\n",
    "            GROUP BY st_id\n",
    "            HAVING SumCorrect > 10\n",
    "        ) AS a\n",
    "        LEFT JOIN default.final_project_check AS b ON a.st_id = b.st_id\n",
    "        LEFT JOIN default.studs AS c ON a.st_id = c.st_id\n",
    "        GROUP BY c.test_grp\n",
    "    ) AS arpau ON arpu.test_grp = arpau.test_grp\n",
    "    JOIN (\n",
    "        SELECT c.test_grp as test_grp, (count(DISTINCT b.st_id) / count(DISTINCT a.st_id)) AS cr_active\n",
    "        FROM (\n",
    "            SELECT st_id, SUM(correct) AS SumCorrect\n",
    "            FROM default.peas\n",
    "            GROUP BY st_id\n",
    "            HAVING SumCorrect > 10\n",
    "        ) AS a\n",
    "        LEFT JOIN default.final_project_check AS b ON a.st_id = b.st_id\n",
    "        LEFT JOIN default.studs AS c ON a.st_id = c.st_id\n",
    "        GROUP BY c.test_grp\n",
    "    ) AS Cr_active ON arpu.test_grp = Cr_active.test_grp\n",
    "    JOIN (\n",
    "        SELECT a.test_grp as test_grp, count(DISTINCT b.st_id) / count(DISTINCT a.st_id) AS cr\n",
    "        FROM (\n",
    "            SELECT *\n",
    "            FROM default.studs AS a\n",
    "            FULL JOIN default.final_project_check AS b ON a.st_id = b.st_id\n",
    "            FULL JOIN default.peas AS c ON a.st_id = c.st_id\n",
    "        )\n",
    "        GROUP BY a.test_grp\n",
    "    ) AS cr ON arpu.test_grp = cr.test_grp\n",
    "    JOIN (\n",
    "        SELECT a.test_grp as test_grp, uniqIf(a.st_id, b.money > 0 AND c.st_m_active >= 2 AND b.subject = 'Math') / uniqIf(a.st_id, c.st_m_active >= 2) AS cr_math\n",
    "        FROM default.studs AS a\n",
    "        LEFT JOIN default.final_project_check AS b ON a.st_id = b.st_id\n",
    "        LEFT JOIN (\n",
    "            SELECT st_id, SUM(correct) AS st_active, sumIf(correct, subject = 'Math') AS st_m_active\n",
    "            FROM default.peas\n",
    "            GROUP BY st_id\n",
    "        ) AS c ON a.st_id = c.st_id\n",
    "        GROUP BY a.test_grp\n",
    "    ) AS cr_math ON arpu.test_grp = cr_math.test_grp\n",
    "    '''\n",
    "\n",
    "q_task2 = ph.read_clickhouse(query=q2, connection=connection_default)\n",
    "q_task2"
   ]
  },
  {
   "cell_type": "code",
   "execution_count": null,
   "metadata": {},
   "outputs": [],
   "source": []
  }
 ],
 "metadata": {
  "kernelspec": {
   "display_name": "Python 3",
   "language": "python",
   "name": "python3"
  },
  "language_info": {
   "codemirror_mode": {
    "name": "ipython",
    "version": 3
   },
   "file_extension": ".py",
   "mimetype": "text/x-python",
   "name": "python",
   "nbconvert_exporter": "python",
   "pygments_lexer": "ipython3",
   "version": "3.7.3"
  }
 },
 "nbformat": 4,
 "nbformat_minor": 4
}
